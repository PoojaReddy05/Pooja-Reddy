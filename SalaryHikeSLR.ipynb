{
 "cells": [
  {
   "cell_type": "code",
   "execution_count": 10,
   "metadata": {},
   "outputs": [],
   "source": [
    "import pandas as pd\n",
    "import numpy as np\n",
    "import matplotlib.pyplot as plt\n",
    "import statsmodels.formula.api as smf\n",
    "from sklearn.linear_model import LinearRegression\n"
   ]
  },
  {
   "cell_type": "code",
   "execution_count": 12,
   "metadata": {},
   "outputs": [
    {
     "name": "stdout",
     "output_type": "stream",
     "text": [
      "   YearsExperience  SalaryHike\n",
      "0              1.1       39343\n",
      "1              1.3       46205\n",
      "2              1.5       37731\n",
      "3              2.0       43525\n",
      "4              2.2       39891\n",
      ".....................................................\n",
      "number of columns 2\n",
      "number of rows/records 30\n"
     ]
    }
   ],
   "source": [
    "# reading a csv file\n",
    "salary = pd.read_csv(\"E:\\\\Data Science\\\\Assignments\\\\15. Simple Linear Regression\\\\Salary_Data.csv\")\n",
    "print(salary.head())\n",
    "print(\".....................................................\")\n",
    "print(\"number of columns\",salary.shape[1])\n",
    "print(\"number of rows/records\",salary.shape[0])"
   ]
  },
  {
   "cell_type": "code",
   "execution_count": 13,
   "metadata": {},
   "outputs": [
    {
     "name": "stdout",
     "output_type": "stream",
     "text": [
      "<class 'pandas.core.frame.DataFrame'>\n",
      "RangeIndex: 30 entries, 0 to 29\n",
      "Data columns (total 2 columns):\n",
      "YearsExperience    30 non-null float64\n",
      "SalaryHike         30 non-null int64\n",
      "dtypes: float64(1), int64(1)\n",
      "memory usage: 608.0 bytes\n",
      "...........................................\n",
      "YearsExperience    0\n",
      "SalaryHike         0\n",
      "dtype: int64\n"
     ]
    }
   ],
   "source": [
    "salary.info()\n",
    "print(\"...........................................\")\n",
    "print(salary.isnull().sum())                 #checking for null value"
   ]
  },
  {
   "cell_type": "code",
   "execution_count": 14,
   "metadata": {},
   "outputs": [
    {
     "data": {
      "text/html": [
       "<div>\n",
       "<style scoped>\n",
       "    .dataframe tbody tr th:only-of-type {\n",
       "        vertical-align: middle;\n",
       "    }\n",
       "\n",
       "    .dataframe tbody tr th {\n",
       "        vertical-align: top;\n",
       "    }\n",
       "\n",
       "    .dataframe thead th {\n",
       "        text-align: right;\n",
       "    }\n",
       "</style>\n",
       "<table border=\"1\" class=\"dataframe\">\n",
       "  <thead>\n",
       "    <tr style=\"text-align: right;\">\n",
       "      <th></th>\n",
       "      <th>YearsExperience</th>\n",
       "      <th>SalaryHike</th>\n",
       "    </tr>\n",
       "  </thead>\n",
       "  <tbody>\n",
       "    <tr>\n",
       "      <td>count</td>\n",
       "      <td>30.000000</td>\n",
       "      <td>30.000000</td>\n",
       "    </tr>\n",
       "    <tr>\n",
       "      <td>mean</td>\n",
       "      <td>5.313333</td>\n",
       "      <td>76003.000000</td>\n",
       "    </tr>\n",
       "    <tr>\n",
       "      <td>std</td>\n",
       "      <td>2.837888</td>\n",
       "      <td>27414.429785</td>\n",
       "    </tr>\n",
       "    <tr>\n",
       "      <td>min</td>\n",
       "      <td>1.100000</td>\n",
       "      <td>37731.000000</td>\n",
       "    </tr>\n",
       "    <tr>\n",
       "      <td>25%</td>\n",
       "      <td>3.200000</td>\n",
       "      <td>56720.750000</td>\n",
       "    </tr>\n",
       "    <tr>\n",
       "      <td>50%</td>\n",
       "      <td>4.700000</td>\n",
       "      <td>65237.000000</td>\n",
       "    </tr>\n",
       "    <tr>\n",
       "      <td>75%</td>\n",
       "      <td>7.700000</td>\n",
       "      <td>100544.750000</td>\n",
       "    </tr>\n",
       "    <tr>\n",
       "      <td>max</td>\n",
       "      <td>10.500000</td>\n",
       "      <td>122391.000000</td>\n",
       "    </tr>\n",
       "  </tbody>\n",
       "</table>\n",
       "</div>"
      ],
      "text/plain": [
       "       YearsExperience     SalaryHike\n",
       "count        30.000000      30.000000\n",
       "mean          5.313333   76003.000000\n",
       "std           2.837888   27414.429785\n",
       "min           1.100000   37731.000000\n",
       "25%           3.200000   56720.750000\n",
       "50%           4.700000   65237.000000\n",
       "75%           7.700000  100544.750000\n",
       "max          10.500000  122391.000000"
      ]
     },
     "execution_count": 14,
     "metadata": {},
     "output_type": "execute_result"
    }
   ],
   "source": [
    "salary.describe()    "
   ]
  },
  {
   "cell_type": "code",
   "execution_count": null,
   "metadata": {},
   "outputs": [],
   "source": [
    "INSIGHT:\n",
    "      -there is not a big gap between minmum value and maximum value for both the columns,so there is no outliers in dataset."
   ]
  },
  {
   "cell_type": "code",
   "execution_count": 16,
   "metadata": {},
   "outputs": [
    {
     "data": {
      "image/png": "[encoded data removed]",
      "text/plain": [
       "<Figure size 432x288 with 1 Axes>"
      ]
     },
     "metadata": {
      "needs_background": "light"
     },
     "output_type": "display_data"
    }
   ],
   "source": [
    "#analysing the data using visualization\n",
    "plt.hist(salary.YearsExperience)\n",
    "plt.show()"
   ]
  },
  {
   "cell_type": "code",
   "execution_count": 19,
   "metadata": {},
   "outputs": [
    {
     "data": {
      "image/png": "[encoded data removed]",
      "text/plain": [
       "<Figure size 432x288 with 1 Axes>"
      ]
     },
     "metadata": {
      "needs_background": "light"
     },
     "output_type": "display_data"
    }
   ],
   "source": [
    "plt.hist(salary.SalaryHike)\n",
    "plt.show()"
   ]
  },
  {
   "cell_type": "code",
   "execution_count": 24,
   "metadata": {},
   "outputs": [
    {
     "data": {
      "image/png": "[encoded data removed]",
      "text/plain": [
       "<Figure size 432x288 with 1 Axes>"
      ]
     },
     "metadata": {
      "needs_background": "light"
     },
     "output_type": "display_data"
    }
   ],
   "source": [
    "plt.plot(salary[\"YearsExperience\"],salary[\"SalaryHike\"], \"r+\")\n",
    "plt.xlabel(\"YearsExperience\")\n",
    "plt.ylabel(\"SalaryHike\")\n",
    "plt.show()"
   ]
  },
  {
   "cell_type": "code",
   "execution_count": 25,
   "metadata": {},
   "outputs": [
    {
     "name": "stdout",
     "output_type": "stream",
     "text": [
      "[[1.         0.97824162]\n",
      " [0.97824162 1.        ]]\n"
     ]
    }
   ],
   "source": [
    "#correlation value between feature and outcome\n",
    "print(np.corrcoef(salary.YearsExperience,salary.SalaryHike))\n"
   ]
  },
  {
   "cell_type": "code",
   "execution_count": 26,
   "metadata": {},
   "outputs": [
    {
     "name": "stdout",
     "output_type": "stream",
     "text": [
      "Intercept          25792.200199\n",
      "YearsExperience     9449.962321\n",
      "dtype: float64\n",
      "                            OLS Regression Results                            \n",
      "==============================================================================\n",
      "Dep. Variable:             SalaryHike   R-squared:                       0.957\n",
      "Model:                            OLS   Adj. R-squared:                  0.955\n",
      "Method:                 Least Squares   F-statistic:                     622.5\n",
      "Date:                Sun, 26 Apr 2020   Prob (F-statistic):           1.14e-20\n",
      "Time:                        16:45:40   Log-Likelihood:                -301.44\n",
      "No. Observations:                  30   AIC:                             606.9\n",
      "Df Residuals:                      28   BIC:                             609.7\n",
      "Df Model:                           1                                         \n",
      "Covariance Type:            nonrobust                                         \n",
      "===================================================================================\n",
      "                      coef    std err          t      P>|t|      [0.025      0.975]\n",
      "-----------------------------------------------------------------------------------\n",
      "Intercept        2.579e+04   2273.053     11.347      0.000    2.11e+04    3.04e+04\n",
      "YearsExperience  9449.9623    378.755     24.950      0.000    8674.119    1.02e+04\n",
      "==============================================================================\n",
      "Omnibus:                        2.140   Durbin-Watson:                   1.648\n",
      "Prob(Omnibus):                  0.343   Jarque-Bera (JB):                1.569\n",
      "Skew:                           0.363   Prob(JB):                        0.456\n",
      "Kurtosis:                       2.147   Cond. No.                         13.2\n",
      "==============================================================================\n",
      "\n",
      "Warnings:\n",
      "[1] Standard Errors assume that the covariance matrix of the errors is correctly specified.\n"
     ]
    }
   ],
   "source": [
    "#start  training model\n",
    "model=smf.ols('SalaryHike~YearsExperience', data=salary).fit()\n",
    "print(model.params)        #getting models parameter\n",
    "print(model.summary())    #summary of models(p value,r square value etc.)\n",
    "          #r square 0.957"
   ]
  },
  {
   "cell_type": "code",
   "execution_count": 27,
   "metadata": {},
   "outputs": [
    {
     "name": "stdout",
     "output_type": "stream",
     "text": [
      "                            0             1\n",
      "Intercept        21136.061314  30448.339084\n",
      "YearsExperience   8674.118747  10225.805896\n"
     ]
    }
   ],
   "source": [
    "print(model.conf_int(0.05))   #95% confidence level"
   ]
  },
  {
   "cell_type": "code",
   "execution_count": 28,
   "metadata": {},
   "outputs": [
    {
     "name": "stdout",
     "output_type": "stream",
     "text": [
      "0    36187.158752\n",
      "1    38077.151217\n",
      "2    39967.143681\n",
      "3    44692.124842\n",
      "4    46582.117306\n",
      "5    53197.090931\n",
      "6    54142.087163\n",
      "7    56032.079627\n",
      "8    56032.079627\n",
      "9    60757.060788\n",
      "dtype: float64\n"
     ]
    }
   ],
   "source": [
    "pred=model.predict(salary.iloc[:,:])      #predict the value of salary using trained model\n",
    "print(pred.head(10))"
   ]
  },
  {
   "cell_type": "code",
   "execution_count": 29,
   "metadata": {},
   "outputs": [
    {
     "name": "stdout",
     "output_type": "stream",
     "text": [
      "5592.043608760661\n"
     ]
    }
   ],
   "source": [
    "#rmse for given model\n",
    "rmse=np.sqrt(np.mean((pred-salary.SalaryHike)**2))\n",
    "print(rmse)                                         #5592 RMSE\n"
   ]
  },
  {
   "cell_type": "code",
   "execution_count": 30,
   "metadata": {},
   "outputs": [
    {
     "data": {
      "image/png": "[encoded data removed]",
      "text/plain": [
       "<Figure size 432x288 with 1 Axes>"
      ]
     },
     "metadata": {
      "needs_background": "light"
     },
     "output_type": "display_data"
    }
   ],
   "source": [
    "#visualization of regression line using matplotlib\n",
    "plt.scatter(x=salary['YearsExperience'],y=salary['SalaryHike'],color='red')\n",
    "plt.plot(salary['YearsExperience'],pred,color='black')\n",
    "plt.xlabel('YEARSOFEXPERIENCE')\n",
    "plt.ylabel('SALARY')\n",
    "plt.show()\n"
   ]
  },
  {
   "cell_type": "code",
   "execution_count": 36,
   "metadata": {},
   "outputs": [
    {
     "data": {
      "image/png": "[encoded data removed]",
      "text/plain": [
       "<Figure size 432x288 with 1 Axes>"
      ]
     },
     "metadata": {
      "needs_background": "light"
     },
     "output_type": "display_data"
    }
   ],
   "source": [
    "plt.scatter(x=salary.SalaryHike, y=pred)\n",
    "plt.xlabel('act_salary')\n",
    "plt.ylabel('pred_salary')\n",
    "plt.show()                                                                    #actual salary vs predicted salary"
   ]
  },
  {
   "cell_type": "code",
   "execution_count": 37,
   "metadata": {},
   "outputs": [
    {
     "name": "stdout",
     "output_type": "stream",
     "text": [
      "   YearsExperience  SalaryHike  YearsExperience_square\n",
      "0              1.1       39343                    1.21\n",
      "1              1.3       46205                    1.69\n",
      "2              1.5       37731                    2.25\n",
      "3              2.0       43525                    4.00\n",
      "4              2.2       39891                    4.84\n"
     ]
    }
   ],
   "source": [
    "#looking for alternate model like quadratic or exponential\n",
    "   #quadratic model\n",
    "salary[\"YearsExperience_square\"]=salary.YearsExperience*salary.YearsExperience\n",
    "print(salary.head())"
   ]
  },
  {
   "cell_type": "code",
   "execution_count": 38,
   "metadata": {},
   "outputs": [
    {
     "name": "stdout",
     "output_type": "stream",
     "text": [
      "Intercept                 26214.932677\n",
      "YearsExperience            9259.283888\n",
      "YearsExperience_square       16.392566\n",
      "dtype: float64\n",
      "                            OLS Regression Results                            \n",
      "==============================================================================\n",
      "Dep. Variable:             SalaryHike   R-squared:                       0.957\n",
      "Model:                            OLS   Adj. R-squared:                  0.954\n",
      "Method:                 Least Squares   F-statistic:                     300.3\n",
      "Date:                Sun, 26 Apr 2020   Prob (F-statistic):           3.59e-19\n",
      "Time:                        17:05:35   Log-Likelihood:                -301.43\n",
      "No. Observations:                  30   AIC:                             608.9\n",
      "Df Residuals:                      27   BIC:                             613.1\n",
      "Df Model:                           2                                         \n",
      "Covariance Type:            nonrobust                                         \n",
      "==========================================================================================\n",
      "                             coef    std err          t      P>|t|      [0.025      0.975]\n",
      "------------------------------------------------------------------------------------------\n",
      "Intercept               2.621e+04   4554.674      5.756      0.000    1.69e+04    3.56e+04\n",
      "YearsExperience         9259.2839   1811.007      5.113      0.000    5543.405     1.3e+04\n",
      "YearsExperience_square    16.3926    152.121      0.108      0.915    -295.734     328.520\n",
      "==============================================================================\n",
      "Omnibus:                        2.181   Durbin-Watson:                   1.649\n",
      "Prob(Omnibus):                  0.336   Jarque-Bera (JB):                1.627\n",
      "Skew:                           0.384   Prob(JB):                        0.443\n",
      "Kurtosis:                       2.156   Cond. No.                         223.\n",
      "==============================================================================\n",
      "\n",
      "Warnings:\n",
      "[1] Standard Errors assume that the covariance matrix of the errors is correctly specified.\n"
     ]
    }
   ],
   "source": [
    "model_quad=smf.ols(\"SalaryHike~YearsExperience+YearsExperience_square\",data=salary).fit()\n",
    "print(model_quad.params)\n",
    "print(model_quad.summary())       # r square 0.957"
   ]
  },
  {
   "cell_type": "code",
   "execution_count": 39,
   "metadata": {},
   "outputs": [
    {
     "name": "stdout",
     "output_type": "stream",
     "text": [
      "                                   0             1\n",
      "Intercept               16869.512653  35560.352701\n",
      "YearsExperience          5543.405004  12975.162772\n",
      "YearsExperience_square   -295.734369    328.519502\n"
     ]
    }
   ],
   "source": [
    "print(model_quad.conf_int(0.05))"
   ]
  },
  {
   "cell_type": "code",
   "execution_count": 44,
   "metadata": {},
   "outputs": [
    {
     "name": "stdout",
     "output_type": "stream",
     "text": [
      "0    36419.979959\n",
      "1    38279.705169\n",
      "2    40140.741784\n",
      "3    44799.070719\n",
      "4    46664.697252\n",
      "dtype: float64\n"
     ]
    }
   ],
   "source": [
    "pred_quad=model_quad.predict(salary.iloc[:,:3])\n",
    "print(pred_quad.head())"
   ]
  },
  {
   "cell_type": "code",
   "execution_count": 46,
   "metadata": {},
   "outputs": [
    {
     "name": "stdout",
     "output_type": "stream",
     "text": [
      "5590.841479683288\n"
     ]
    }
   ],
   "source": [
    "#rmse for quadratic model\n",
    "rmse_quad=np.sqrt(np.mean((pred_quad-salary.SalaryHike)**2))\n",
    "print(rmse_quad)                                     #5591 rs"
   ]
  },
  {
   "cell_type": "code",
   "execution_count": 47,
   "metadata": {},
   "outputs": [
    {
     "data": {
      "image/png": "[encoded data removed]",
      "text/plain": [
       "<Figure size 432x288 with 1 Axes>"
      ]
     },
     "metadata": {
      "needs_background": "light"
     },
     "output_type": "display_data"
    }
   ],
   "source": [
    "plt.scatter(x=salary.SalaryHike, y=pred_quad)\n",
    "plt.xlabel(\"act_salary\")\n",
    "plt.ylabel(\"pred_quad_salary\")\n",
    "plt.show()"
   ]
  },
  {
   "cell_type": "code",
   "execution_count": null,
   "metadata": {},
   "outputs": [],
   "source": [
    "     #conclusion:\n",
    "       -both model linear&quadratic are same in accuracy\n",
    "       -linear model(r square=0.957,rmse=5592 rs)\n",
    "       -quadratic model(r square=0.957, rmse=5590)"
   ]
  }
 ],
 "metadata": {
  "kernelspec": {
   "display_name": "Python 3",
   "language": "python",
   "name": "python3"
  },
  "language_info": {
   "codemirror_mode": {
    "name": "ipython",
    "version": 3
   },
   "file_extension": ".py",
   "mimetype": "text/x-python",
   "name": "python",
   "nbconvert_exporter": "python",
   "pygments_lexer": "ipython3",
   "version": "3.7.4"
  }
 },
 "nbformat": 4,
 "nbformat_minor": 2
}
