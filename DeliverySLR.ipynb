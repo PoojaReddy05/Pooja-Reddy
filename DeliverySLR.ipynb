{
 "cells": [
  {
   "cell_type": "code",
   "execution_count": 2,
   "metadata": {},
   "outputs": [],
   "source": [
    "import pandas as pd\n",
    "import numpy as np\n",
    "import matplotlib.pyplot as plt\n",
    "import statsmodels.formula.api as smf\n",
    "from sklearn.linear_model import LinearRegression\n"
   ]
  },
  {
   "cell_type": "code",
   "execution_count": 3,
   "metadata": {},
   "outputs": [
    {
     "name": "stdout",
     "output_type": "stream",
     "text": [
      "   Delivery_Time  Sorting_Time\n",
      "0          21.00            10\n",
      "1          13.50             4\n",
      "2          19.75             6\n",
      "3          24.00             9\n",
      "4          29.00            10\n",
      ".....................................................\n",
      "number of columns 2\n",
      "number of rows/records 21\n"
     ]
    }
   ],
   "source": [
    "# reading a csv file\n",
    "delivery = pd.read_csv(\"E:\\\\Data Science\\\\Assignments\\\\15. Simple Linear Regression\\\\delivery_time.csv\")\n",
    "print(delivery.head())\n",
    "print(\".....................................................\")\n",
    "print(\"number of columns\",delivery.shape[1])\n",
    "print(\"number of rows/records\",delivery.shape[0])"
   ]
  },
  {
   "cell_type": "code",
   "execution_count": 4,
   "metadata": {},
   "outputs": [
    {
     "name": "stdout",
     "output_type": "stream",
     "text": [
      "<class 'pandas.core.frame.DataFrame'>\n",
      "RangeIndex: 21 entries, 0 to 20\n",
      "Data columns (total 2 columns):\n",
      "Delivery_Time    21 non-null float64\n",
      "Sorting_Time     21 non-null int64\n",
      "dtypes: float64(1), int64(1)\n",
      "memory usage: 464.0 bytes\n",
      "...........................................\n",
      "Delivery_Time    0\n",
      "Sorting_Time     0\n",
      "dtype: int64\n"
     ]
    }
   ],
   "source": [
    "delivery.info()\n",
    "print(\"...........................................\")\n",
    "print(delivery.isnull().sum())                 #checking for null value"
   ]
  },
  {
   "cell_type": "code",
   "execution_count": 5,
   "metadata": {},
   "outputs": [
    {
     "data": {
      "text/html": [
       "<div>\n",
       "<style scoped>\n",
       "    .dataframe tbody tr th:only-of-type {\n",
       "        vertical-align: middle;\n",
       "    }\n",
       "\n",
       "    .dataframe tbody tr th {\n",
       "        vertical-align: top;\n",
       "    }\n",
       "\n",
       "    .dataframe thead th {\n",
       "        text-align: right;\n",
       "    }\n",
       "</style>\n",
       "<table border=\"1\" class=\"dataframe\">\n",
       "  <thead>\n",
       "    <tr style=\"text-align: right;\">\n",
       "      <th></th>\n",
       "      <th>Delivery_Time</th>\n",
       "      <th>Sorting_Time</th>\n",
       "    </tr>\n",
       "  </thead>\n",
       "  <tbody>\n",
       "    <tr>\n",
       "      <td>count</td>\n",
       "      <td>21.000000</td>\n",
       "      <td>21.000000</td>\n",
       "    </tr>\n",
       "    <tr>\n",
       "      <td>mean</td>\n",
       "      <td>16.790952</td>\n",
       "      <td>6.190476</td>\n",
       "    </tr>\n",
       "    <tr>\n",
       "      <td>std</td>\n",
       "      <td>5.074901</td>\n",
       "      <td>2.542028</td>\n",
       "    </tr>\n",
       "    <tr>\n",
       "      <td>min</td>\n",
       "      <td>8.000000</td>\n",
       "      <td>2.000000</td>\n",
       "    </tr>\n",
       "    <tr>\n",
       "      <td>25%</td>\n",
       "      <td>13.500000</td>\n",
       "      <td>4.000000</td>\n",
       "    </tr>\n",
       "    <tr>\n",
       "      <td>50%</td>\n",
       "      <td>17.830000</td>\n",
       "      <td>6.000000</td>\n",
       "    </tr>\n",
       "    <tr>\n",
       "      <td>75%</td>\n",
       "      <td>19.750000</td>\n",
       "      <td>8.000000</td>\n",
       "    </tr>\n",
       "    <tr>\n",
       "      <td>max</td>\n",
       "      <td>29.000000</td>\n",
       "      <td>10.000000</td>\n",
       "    </tr>\n",
       "  </tbody>\n",
       "</table>\n",
       "</div>"
      ],
      "text/plain": [
       "       Delivery_Time  Sorting_Time\n",
       "count      21.000000     21.000000\n",
       "mean       16.790952      6.190476\n",
       "std         5.074901      2.542028\n",
       "min         8.000000      2.000000\n",
       "25%        13.500000      4.000000\n",
       "50%        17.830000      6.000000\n",
       "75%        19.750000      8.000000\n",
       "max        29.000000     10.000000"
      ]
     },
     "execution_count": 5,
     "metadata": {},
     "output_type": "execute_result"
    }
   ],
   "source": [
    "delivery.describe()"
   ]
  },
  {
   "cell_type": "code",
   "execution_count": 8,
   "metadata": {},
   "outputs": [
    {
     "data": {
      "image/png": "[encoded data removed]",
      "text/plain": [
       "<Figure size 432x288 with 1 Axes>"
      ]
     },
     "metadata": {
      "needs_background": "light"
     },
     "output_type": "display_data"
    }
   ],
   "source": [
    "#analysing the data using visualization\n",
    "plt.hist(delivery.Sorting_Time)\n",
    "plt.show()"
   ]
  },
  {
   "cell_type": "code",
   "execution_count": 9,
   "metadata": {},
   "outputs": [
    {
     "data": {
      "image/png": "[encoded data removed]",
      "text/plain": [
       "<Figure size 432x288 with 1 Axes>"
      ]
     },
     "metadata": {
      "needs_background": "light"
     },
     "output_type": "display_data"
    }
   ],
   "source": [
    "plt.hist(delivery.Delivery_Time)\n",
    "plt.show()"
   ]
  },
  {
   "cell_type": "code",
   "execution_count": 11,
   "metadata": {},
   "outputs": [
    {
     "data": {
      "image/png": "[encoded data removed]",
      "text/plain": [
       "<Figure size 432x288 with 1 Axes>"
      ]
     },
     "metadata": {
      "needs_background": "light"
     },
     "output_type": "display_data"
    }
   ],
   "source": [
    "plt.plot(delivery[\"Sorting_Time\"],delivery[\"Delivery_Time\"], \"bo\")\n",
    "plt.xlabel(\"Sorting_Time\")\n",
    "plt.ylabel(\"Delivery_Time\")\n",
    "plt.show()"
   ]
  },
  {
   "cell_type": "code",
   "execution_count": 12,
   "metadata": {},
   "outputs": [
    {
     "name": "stdout",
     "output_type": "stream",
     "text": [
      "[[1.         0.82599726]\n",
      " [0.82599726 1.        ]]\n"
     ]
    }
   ],
   "source": [
    "#correlation value between feature and outcome\n",
    "print(np.corrcoef(delivery.Sorting_Time,delivery.Delivery_Time))\n"
   ]
  },
  {
   "cell_type": "code",
   "execution_count": 13,
   "metadata": {},
   "outputs": [
    {
     "name": "stdout",
     "output_type": "stream",
     "text": [
      "Intercept       6.257961\n",
      "Sorting_Time    1.657710\n",
      "dtype: float64\n",
      "                            OLS Regression Results                            \n",
      "==============================================================================\n",
      "Dep. Variable:          Delivery_Time   R-squared:                       0.719\n",
      "Model:                            OLS   Adj. R-squared:                  0.701\n",
      "Method:                 Least Squares   F-statistic:                     40.89\n",
      "Date:                Sun, 26 Apr 2020   Prob (F-statistic):           8.89e-06\n",
      "Time:                        19:58:21   Log-Likelihood:                -42.176\n",
      "No. Observations:                  18   AIC:                             88.35\n",
      "Df Residuals:                      16   BIC:                             90.13\n",
      "Df Model:                           1                                         \n",
      "Covariance Type:            nonrobust                                         \n",
      "================================================================================\n",
      "                   coef    std err          t      P>|t|      [0.025      0.975]\n",
      "--------------------------------------------------------------------------------\n",
      "Intercept        6.2580      1.772      3.531      0.003       2.501      10.015\n",
      "Sorting_Time     1.6577      0.259      6.394      0.000       1.108       2.207\n",
      "==============================================================================\n",
      "Omnibus:                        1.959   Durbin-Watson:                   1.192\n",
      "Prob(Omnibus):                  0.375   Jarque-Bera (JB):                0.763\n",
      "Skew:                           0.482   Prob(JB):                        0.683\n",
      "Kurtosis:                       3.296   Cond. No.                         19.6\n",
      "==============================================================================\n",
      "\n",
      "Warnings:\n",
      "[1] Standard Errors assume that the covariance matrix of the errors is correctly specified.\n"
     ]
    },
    {
     "name": "stderr",
     "output_type": "stream",
     "text": [
      "C:\\Users\\Admin\\Anaconda3\\lib\\site-packages\\scipy\\stats\\stats.py:1450: UserWarning: kurtosistest only valid for n>=20 ... continuing anyway, n=18\n",
      "  \"anyway, n=%i\" % int(n))\n"
     ]
    }
   ],
   "source": [
    "#start  training model\n",
    "model=smf.ols('Delivery_Time~Sorting_Time', data=delivery.loc[delivery.Sorting_Time>2].drop(delivery.index[10]).drop(delivery.index[20])).fit()\n",
    "print(model.params)        #getting models parameter\n",
    "print(model.summary())    #summary of models(p value,r square value etc.)\n",
    "          #r square 0.719"
   ]
  },
  {
   "cell_type": "code",
   "execution_count": 16,
   "metadata": {},
   "outputs": [
    {
     "name": "stdout",
     "output_type": "stream",
     "text": [
      "                     0          1\n",
      "Intercept     2.501334  10.014589\n",
      "Sorting_Time  1.108123   2.207297\n"
     ]
    }
   ],
   "source": [
    "print(model.conf_int(0.05))   #95% confidence level"
   ]
  },
  {
   "cell_type": "code",
   "execution_count": 18,
   "metadata": {},
   "outputs": [
    {
     "name": "stdout",
     "output_type": "stream",
     "text": [
      "0    22.835065\n",
      "1    12.888803\n",
      "2    16.204224\n",
      "3    21.177355\n",
      "4    22.835065\n",
      "5    16.204224\n",
      "6    17.861934\n",
      "7    11.231093\n",
      "8    22.835065\n",
      "9    21.177355\n",
      "dtype: float64\n"
     ]
    }
   ],
   "source": [
    "pred=model.predict(delivery.iloc[:,:])      #predict the value of delivery time using trained model\n",
    "print(pred.head(10))"
   ]
  },
  {
   "cell_type": "code",
   "execution_count": 20,
   "metadata": {},
   "outputs": [
    {
     "name": "stdout",
     "output_type": "stream",
     "text": [
      "2.804853544709059\n"
     ]
    }
   ],
   "source": [
    "#rmse for given model\n",
    "rmse=np.sqrt(np.mean((pred-delivery.Delivery_Time)**2))\n",
    "print(rmse)                                         #2.804 RMSE\n"
   ]
  },
  {
   "cell_type": "code",
   "execution_count": 23,
   "metadata": {},
   "outputs": [
    {
     "data": {
      "image/png": "[encoded data removed]",
      "text/plain": [
       "<Figure size 432x288 with 1 Axes>"
      ]
     },
     "metadata": {
      "needs_background": "light"
     },
     "output_type": "display_data"
    }
   ],
   "source": [
    "#visualization of regression line using matplotlib\n",
    "plt.scatter(x=delivery['Sorting_Time'],y=delivery['Delivery_Time'],color='orange')\n",
    "plt.plot(delivery['Sorting_Time'],pred,color='black')\n",
    "plt.xlabel('SORTING TIME')\n",
    "plt.ylabel('DELIVERY TIME')\n",
    "plt.show()\n"
   ]
  },
  {
   "cell_type": "code",
   "execution_count": 25,
   "metadata": {},
   "outputs": [
    {
     "data": {
      "image/png": "[encoded data removed]",
      "text/plain": [
       "<Figure size 432x288 with 1 Axes>"
      ]
     },
     "metadata": {
      "needs_background": "light"
     },
     "output_type": "display_data"
    }
   ],
   "source": [
    "plt.scatter(x=delivery.Delivery_Time, y=pred)\n",
    "plt.xlabel('act_delivery')\n",
    "plt.ylabel('pred_delivery')\n",
    "plt.show()                                                                    #actual delivery time vs predicted delivery time"
   ]
  },
  {
   "cell_type": "code",
   "execution_count": 27,
   "metadata": {},
   "outputs": [
    {
     "name": "stdout",
     "output_type": "stream",
     "text": [
      "   Delivery_Time  Sorting_Time  Sorting_Time_square\n",
      "0          21.00            10                  100\n",
      "1          13.50             4                   16\n",
      "2          19.75             6                   36\n",
      "3          24.00             9                   81\n",
      "4          29.00            10                  100\n"
     ]
    }
   ],
   "source": [
    "#looking for alternate model like quadratic or exponential\n",
    "   #quadratic model\n",
    "delivery[\"Sorting_Time_square\"]=delivery.Sorting_Time*delivery.Sorting_Time\n",
    "print(delivery.head())"
   ]
  },
  {
   "cell_type": "code",
   "execution_count": 29,
   "metadata": {},
   "outputs": [
    {
     "name": "stdout",
     "output_type": "stream",
     "text": [
      "Intercept              3.522234\n",
      "Sorting_Time           2.813002\n",
      "Sorting_Time_square   -0.093198\n",
      "dtype: float64\n",
      "                            OLS Regression Results                            \n",
      "==============================================================================\n",
      "Dep. Variable:          Delivery_Time   R-squared:                       0.693\n",
      "Model:                            OLS   Adj. R-squared:                  0.659\n",
      "Method:                 Least Squares   F-statistic:                     20.36\n",
      "Date:                Sun, 26 Apr 2020   Prob (F-statistic):           2.39e-05\n",
      "Time:                        20:07:44   Log-Likelihood:                -50.981\n",
      "No. Observations:                  21   AIC:                             108.0\n",
      "Df Residuals:                      18   BIC:                             111.1\n",
      "Df Model:                           2                                         \n",
      "Covariance Type:            nonrobust                                         \n",
      "=======================================================================================\n",
      "                          coef    std err          t      P>|t|      [0.025      0.975]\n",
      "---------------------------------------------------------------------------------------\n",
      "Intercept               3.5222      4.160      0.847      0.408      -5.217      12.261\n",
      "Sorting_Time            2.8130      1.461      1.926      0.070      -0.256       5.882\n",
      "Sorting_Time_square    -0.0932      0.115     -0.810      0.429      -0.335       0.149\n",
      "==============================================================================\n",
      "Omnibus:                        5.388   Durbin-Watson:                   1.345\n",
      "Prob(Omnibus):                  0.068   Jarque-Bera (JB):                3.393\n",
      "Skew:                           0.943   Prob(JB):                        0.183\n",
      "Kurtosis:                       3.563   Cond. No.                         373.\n",
      "==============================================================================\n",
      "\n",
      "Warnings:\n",
      "[1] Standard Errors assume that the covariance matrix of the errors is correctly specified.\n"
     ]
    }
   ],
   "source": [
    "model_quad=smf.ols(\"Delivery_Time~Sorting_Time+Sorting_Time_square\",data=delivery).fit()\n",
    "print(model_quad.params)\n",
    "print(model_quad.summary())       # 0.693 r square "
   ]
  },
  {
   "cell_type": "code",
   "execution_count": 30,
   "metadata": {},
   "outputs": [
    {
     "name": "stdout",
     "output_type": "stream",
     "text": [
      "                            0          1\n",
      "Intercept           -5.216926  12.261394\n",
      "Sorting_Time        -0.256067   5.882070\n",
      "Sorting_Time_square -0.334994   0.148598\n"
     ]
    }
   ],
   "source": [
    "print(model_quad.conf_int(0.05))"
   ]
  },
  {
   "cell_type": "code",
   "execution_count": 32,
   "metadata": {},
   "outputs": [
    {
     "name": "stdout",
     "output_type": "stream",
     "text": [
      "0    22.332430\n",
      "1    13.283069\n",
      "2    17.045108\n",
      "3    21.290194\n",
      "4    22.332430\n",
      "dtype: float64\n"
     ]
    }
   ],
   "source": [
    "pred_quad=model_quad.predict(delivery.iloc[:,:3])\n",
    "print(pred_quad.head())"
   ]
  },
  {
   "cell_type": "code",
   "execution_count": 33,
   "metadata": {},
   "outputs": [
    {
     "name": "stdout",
     "output_type": "stream",
     "text": [
      "2.7421482037801215\n"
     ]
    }
   ],
   "source": [
    "#rmse for quadratic model\n",
    "rmse_quad=np.sqrt(np.mean((pred_quad-delivery.Delivery_Time)**2))\n",
    "print(rmse_quad)                                     #2.7421 rs"
   ]
  },
  {
   "cell_type": "code",
   "execution_count": 35,
   "metadata": {},
   "outputs": [
    {
     "data": {
      "image/png": "[encoded data removed]",
      "text/plain": [
       "<Figure size 432x288 with 1 Axes>"
      ]
     },
     "metadata": {
      "needs_background": "light"
     },
     "output_type": "display_data"
    }
   ],
   "source": [
    "plt.scatter(x=delivery.Delivery_Time, y=pred_quad)\n",
    "plt.xlabel(\"act_delivery\")\n",
    "plt.ylabel(\"pred_quad_delivery\")\n",
    "plt.show()"
   ]
  },
  {
   "cell_type": "code",
   "execution_count": null,
   "metadata": {},
   "outputs": [],
   "source": [
    "     #conclusion:\n",
    "       -both model linear&quadratic are not same in accuracy\n",
    "       -linear model(r square=0.719,rmse=2.804)\n",
    "       -quadratic model(r square=0.693,rmse=2.7421)\n",
    "       -The lower the RMSE value the better the model, so here quadratic model is the best fit model"
   ]
  }
 ],
 "metadata": {
  "kernelspec": {
   "display_name": "Python 3",
   "language": "python",
   "name": "python3"
  },
  "language_info": {
   "codemirror_mode": {
    "name": "ipython",
    "version": 3
   },
   "file_extension": ".py",
   "mimetype": "text/x-python",
   "name": "python",
   "nbconvert_exporter": "python",
   "pygments_lexer": "ipython3",
   "version": "3.7.4"
  }
 },
 "nbformat": 4,
 "nbformat_minor": 2
}
