{
 "cells": [
  {
   "cell_type": "code",
   "execution_count": 1,
   "metadata": {},
   "outputs": [],
   "source": [
    "import pandas as pd \n",
    "import numpy as np\n",
    "import matplotlib.pyplot as plt\n",
    "import seaborn as sns\n",
    "import statsmodels.formula.api as smf\n",
    "import matplotlib.pylab as plt\n"
   ]
  },
  {
   "cell_type": "code",
   "execution_count": 3,
   "metadata": {},
   "outputs": [
    {
     "name": "stdout",
     "output_type": "stream",
     "text": [
      "   Salary_Hike  Churn_Out_Rate\n",
      "0         1580              92\n",
      "1         1600              85\n",
      "2         1610              80\n",
      "3         1640              75\n",
      "4         1660              72\n",
      ".....................................................\n",
      "number of columns 2\n",
      "number of rows/records 10\n"
     ]
    }
   ],
   "source": [
    "# reading a csv file\n",
    "emp = pd.read_csv(\"E:\\\\Data Science\\\\Assignments\\\\15. Simple Linear Regression\\\\emp_data.csv\")\n",
    "print(emp.head())\n",
    "print(\".....................................................\")\n",
    "print(\"number of columns\",emp.shape[1])\n",
    "print(\"number of rows/records\",emp.shape[0])"
   ]
  },
  {
   "cell_type": "code",
   "execution_count": 7,
   "metadata": {},
   "outputs": [
    {
     "name": "stdout",
     "output_type": "stream",
     "text": [
      "<class 'pandas.core.frame.DataFrame'>\n",
      "RangeIndex: 10 entries, 0 to 9\n",
      "Data columns (total 2 columns):\n",
      "Salary_Hike       10 non-null int64\n",
      "Churn_Out_Rate    10 non-null int64\n",
      "dtypes: int64(2)\n",
      "memory usage: 288.0 bytes\n",
      "...........................................\n",
      "Salary_Hike       0\n",
      "Churn_Out_Rate    0\n",
      "dtype: int64\n"
     ]
    }
   ],
   "source": [
    "emp.info()\n",
    "print(\"...........................................\")\n",
    "print(emp.isnull().sum())                 #checking for null value"
   ]
  },
  {
   "cell_type": "code",
   "execution_count": 8,
   "metadata": {},
   "outputs": [
    {
     "data": {
      "text/html": [
       "<div>\n",
       "<style scoped>\n",
       "    .dataframe tbody tr th:only-of-type {\n",
       "        vertical-align: middle;\n",
       "    }\n",
       "\n",
       "    .dataframe tbody tr th {\n",
       "        vertical-align: top;\n",
       "    }\n",
       "\n",
       "    .dataframe thead th {\n",
       "        text-align: right;\n",
       "    }\n",
       "</style>\n",
       "<table border=\"1\" class=\"dataframe\">\n",
       "  <thead>\n",
       "    <tr style=\"text-align: right;\">\n",
       "      <th></th>\n",
       "      <th>Salary_Hike</th>\n",
       "      <th>Churn_Out_Rate</th>\n",
       "    </tr>\n",
       "  </thead>\n",
       "  <tbody>\n",
       "    <tr>\n",
       "      <td>count</td>\n",
       "      <td>10.000000</td>\n",
       "      <td>10.000000</td>\n",
       "    </tr>\n",
       "    <tr>\n",
       "      <td>mean</td>\n",
       "      <td>1688.600000</td>\n",
       "      <td>72.900000</td>\n",
       "    </tr>\n",
       "    <tr>\n",
       "      <td>std</td>\n",
       "      <td>92.096809</td>\n",
       "      <td>10.257247</td>\n",
       "    </tr>\n",
       "    <tr>\n",
       "      <td>min</td>\n",
       "      <td>1580.000000</td>\n",
       "      <td>60.000000</td>\n",
       "    </tr>\n",
       "    <tr>\n",
       "      <td>25%</td>\n",
       "      <td>1617.500000</td>\n",
       "      <td>65.750000</td>\n",
       "    </tr>\n",
       "    <tr>\n",
       "      <td>50%</td>\n",
       "      <td>1675.000000</td>\n",
       "      <td>71.000000</td>\n",
       "    </tr>\n",
       "    <tr>\n",
       "      <td>75%</td>\n",
       "      <td>1724.000000</td>\n",
       "      <td>78.750000</td>\n",
       "    </tr>\n",
       "    <tr>\n",
       "      <td>max</td>\n",
       "      <td>1870.000000</td>\n",
       "      <td>92.000000</td>\n",
       "    </tr>\n",
       "  </tbody>\n",
       "</table>\n",
       "</div>"
      ],
      "text/plain": [
       "       Salary_Hike  Churn_Out_Rate\n",
       "count    10.000000       10.000000\n",
       "mean   1688.600000       72.900000\n",
       "std      92.096809       10.257247\n",
       "min    1580.000000       60.000000\n",
       "25%    1617.500000       65.750000\n",
       "50%    1675.000000       71.000000\n",
       "75%    1724.000000       78.750000\n",
       "max    1870.000000       92.000000"
      ]
     },
     "execution_count": 8,
     "metadata": {},
     "output_type": "execute_result"
    }
   ],
   "source": [
    "emp.describe()    "
   ]
  },
  {
   "cell_type": "code",
   "execution_count": 10,
   "metadata": {},
   "outputs": [
    {
     "data": {
      "image/png": "[encoded data removed]",
      "text/plain": [
       "<Figure size 432x288 with 1 Axes>"
      ]
     },
     "metadata": {
      "needs_background": "light"
     },
     "output_type": "display_data"
    }
   ],
   "source": [
    "#analysing the data using visualization\n",
    "plt.hist(emp.Salary_Hike)\n",
    "plt.show()"
   ]
  },
  {
   "cell_type": "code",
   "execution_count": 13,
   "metadata": {},
   "outputs": [
    {
     "data": {
      "image/png": "[encoded data removed]",
      "text/plain": [
       "<Figure size 432x288 with 1 Axes>"
      ]
     },
     "metadata": {
      "needs_background": "light"
     },
     "output_type": "display_data"
    }
   ],
   "source": [
    "plt.hist(emp.Churn_Out_Rate)\n",
    "plt.show()"
   ]
  },
  {
   "cell_type": "code",
   "execution_count": 15,
   "metadata": {},
   "outputs": [
    {
     "data": {
      "image/png": "[encoded data removed]",
      "text/plain": [
       "<Figure size 432x288 with 1 Axes>"
      ]
     },
     "metadata": {
      "needs_background": "light"
     },
     "output_type": "display_data"
    }
   ],
   "source": [
    "plt.plot(emp[\"Salary_Hike\"],emp[\"Churn_Out_Rate\"], \"bo\")\n",
    "plt.xlabel(\"Salary_Hike\")\n",
    "plt.ylabel(\"Churn_Out_Rate\")\n",
    "plt.show()"
   ]
  },
  {
   "cell_type": "code",
   "execution_count": 16,
   "metadata": {},
   "outputs": [
    {
     "name": "stdout",
     "output_type": "stream",
     "text": [
      "[[ 1.         -0.91172162]\n",
      " [-0.91172162  1.        ]]\n"
     ]
    }
   ],
   "source": [
    "#correlation value between feature and outcome\n",
    "print(np.corrcoef(emp.Salary_Hike,emp.Churn_Out_Rate))\n"
   ]
  },
  {
   "cell_type": "code",
   "execution_count": 18,
   "metadata": {},
   "outputs": [
    {
     "name": "stdout",
     "output_type": "stream",
     "text": [
      "Intercept      244.364911\n",
      "Salary_Hike     -0.101543\n",
      "dtype: float64\n",
      "                            OLS Regression Results                            \n",
      "==============================================================================\n",
      "Dep. Variable:         Churn_Out_Rate   R-squared:                       0.831\n",
      "Model:                            OLS   Adj. R-squared:                  0.810\n",
      "Method:                 Least Squares   F-statistic:                     39.40\n",
      "Date:                Sun, 26 Apr 2020   Prob (F-statistic):           0.000239\n",
      "Time:                        20:38:23   Log-Likelihood:                -28.046\n",
      "No. Observations:                  10   AIC:                             60.09\n",
      "Df Residuals:                       8   BIC:                             60.70\n",
      "Df Model:                           1                                         \n",
      "Covariance Type:            nonrobust                                         \n",
      "===============================================================================\n",
      "                  coef    std err          t      P>|t|      [0.025      0.975]\n",
      "-------------------------------------------------------------------------------\n",
      "Intercept     244.3649     27.352      8.934      0.000     181.291     307.439\n",
      "Salary_Hike    -0.1015      0.016     -6.277      0.000      -0.139      -0.064\n",
      "==============================================================================\n",
      "Omnibus:                        2.201   Durbin-Watson:                   0.562\n",
      "Prob(Omnibus):                  0.333   Jarque-Bera (JB):                1.408\n",
      "Skew:                           0.851   Prob(JB):                        0.495\n",
      "Kurtosis:                       2.304   Cond. No.                     3.27e+04\n",
      "==============================================================================\n",
      "\n",
      "Warnings:\n",
      "[1] Standard Errors assume that the covariance matrix of the errors is correctly specified.\n",
      "[2] The condition number is large, 3.27e+04. This might indicate that there are\n",
      "strong multicollinearity or other numerical problems.\n"
     ]
    }
   ],
   "source": [
    "#start  training model\n",
    "model=smf.ols('Churn_Out_Rate~Salary_Hike', data=emp).fit()\n",
    "print(model.params)        #getting models parameter\n",
    "print(model.summary())    #summary of models(p value,r square value etc.)\n",
    "          #r square 0.831"
   ]
  },
  {
   "cell_type": "code",
   "execution_count": 19,
   "metadata": {},
   "outputs": [
    {
     "name": "stdout",
     "output_type": "stream",
     "text": [
      "                      0           1\n",
      "Intercept    181.291232  307.438591\n",
      "Salary_Hike   -0.138845   -0.064240\n"
     ]
    }
   ],
   "source": [
    "print(model.conf_int(0.05))   #95% confidence level"
   ]
  },
  {
   "cell_type": "code",
   "execution_count": 21,
   "metadata": {},
   "outputs": [
    {
     "name": "stdout",
     "output_type": "stream",
     "text": [
      "0    83.927531\n",
      "1    81.896678\n",
      "2    80.881252\n",
      "3    77.834973\n",
      "4    75.804120\n",
      "5    72.757840\n",
      "6    71.133158\n",
      "7    68.696134\n",
      "8    61.588149\n",
      "9    54.480164\n",
      "dtype: float64\n"
     ]
    }
   ],
   "source": [
    "pred=model.predict(emp.iloc[:,:])      #predict the value of Churn_Out_Rate using trained model\n",
    "print(pred.head(10))"
   ]
  },
  {
   "cell_type": "code",
   "execution_count": 27,
   "metadata": {},
   "outputs": [
    {
     "name": "stdout",
     "output_type": "stream",
     "text": [
      "3.997528462337793\n"
     ]
    }
   ],
   "source": [
    "#rmse for given model\n",
    "rmse=np.sqrt(np.mean((emp.Churn_Out_Rate-pred)**2))\n",
    "print(rmse)                                         #3.997 RMSE\n"
   ]
  },
  {
   "cell_type": "code",
   "execution_count": 28,
   "metadata": {},
   "outputs": [
    {
     "data": {
      "image/png": "[encoded data removed]",
      "text/plain": [
       "<Figure size 432x288 with 1 Axes>"
      ]
     },
     "metadata": {
      "needs_background": "light"
     },
     "output_type": "display_data"
    }
   ],
   "source": [
    "#visualization of regression line using matplotlib\n",
    "plt.scatter(x=emp['Salary_Hike'],y=emp['Churn_Out_Rate'],color='turquoise')\n",
    "plt.plot(emp['Salary_Hike'],pred,color='black')\n",
    "plt.xlabel('SALARY HIKE')\n",
    "plt.ylabel('CHURN OUT RATE')\n",
    "plt.show()\n"
   ]
  },
  {
   "cell_type": "code",
   "execution_count": 36,
   "metadata": {},
   "outputs": [
    {
     "data": {
      "image/png": "[encoded data removed]",
      "text/plain": [
       "<Figure size 432x288 with 1 Axes>"
      ]
     },
     "metadata": {
      "needs_background": "light"
     },
     "output_type": "display_data"
    }
   ],
   "source": [
    "plt.scatter(x=emp.Churn_Out_Rate, y=pred)\n",
    "plt.xlabel('act_Churn')\n",
    "plt.ylabel('pred_Churn')\n",
    "plt.show()                                                                    #actual churn out time vs predicted churn out time"
   ]
  },
  {
   "cell_type": "code",
   "execution_count": 38,
   "metadata": {},
   "outputs": [
    {
     "name": "stdout",
     "output_type": "stream",
     "text": [
      "   Salary_Hike  Churn_Out_Rate  Salary_Hike_square\n",
      "0         1580              92             2496400\n",
      "1         1600              85             2560000\n",
      "2         1610              80             2592100\n",
      "3         1640              75             2689600\n",
      "4         1660              72             2755600\n"
     ]
    }
   ],
   "source": [
    "#looking for alternate model like quadratic or exponential\n",
    "   #quadratic model\n",
    "emp[\"Salary_Hike_square\"]=emp.Salary_Hike*emp.Salary_Hike\n",
    "print(emp.head())"
   ]
  },
  {
   "cell_type": "code",
   "execution_count": 39,
   "metadata": {},
   "outputs": [
    {
     "name": "stdout",
     "output_type": "stream",
     "text": [
      "Intercept             1647.011647\n",
      "Salary_Hike             -1.737089\n",
      "Salary_Hike_square       0.000475\n",
      "dtype: float64\n",
      "                            OLS Regression Results                            \n",
      "==============================================================================\n",
      "Dep. Variable:         Churn_Out_Rate   R-squared:                       0.974\n",
      "Model:                            OLS   Adj. R-squared:                  0.966\n",
      "Method:                 Least Squares   F-statistic:                     129.6\n",
      "Date:                Sun, 26 Apr 2020   Prob (F-statistic):           2.95e-06\n",
      "Time:                        21:05:05   Log-Likelihood:                -18.751\n",
      "No. Observations:                  10   AIC:                             43.50\n",
      "Df Residuals:                       7   BIC:                             44.41\n",
      "Df Model:                           2                                         \n",
      "Covariance Type:            nonrobust                                         \n",
      "======================================================================================\n",
      "                         coef    std err          t      P>|t|      [0.025      0.975]\n",
      "--------------------------------------------------------------------------------------\n",
      "Intercept           1647.0116    228.059      7.222      0.000    1107.738    2186.285\n",
      "Salary_Hike           -1.7371      0.266     -6.538      0.000      -2.365      -1.109\n",
      "Salary_Hike_square     0.0005   7.72e-05      6.158      0.000       0.000       0.001\n",
      "==============================================================================\n",
      "Omnibus:                        0.169   Durbin-Watson:                   1.152\n",
      "Prob(Omnibus):                  0.919   Jarque-Bera (JB):                0.362\n",
      "Skew:                           0.028   Prob(JB):                        0.835\n",
      "Kurtosis:                       2.070   Cond. No.                     1.10e+09\n",
      "==============================================================================\n",
      "\n",
      "Warnings:\n",
      "[1] Standard Errors assume that the covariance matrix of the errors is correctly specified.\n",
      "[2] The condition number is large, 1.1e+09. This might indicate that there are\n",
      "strong multicollinearity or other numerical problems.\n"
     ]
    }
   ],
   "source": [
    "model_quad=smf.ols(\"Churn_Out_Rate~Salary_Hike+Salary_Hike_square\",data=emp).fit()\n",
    "print(model_quad.params)\n",
    "print(model_quad.summary())       # r square 0.974"
   ]
  },
  {
   "cell_type": "code",
   "execution_count": 40,
   "metadata": {},
   "outputs": [
    {
     "name": "stdout",
     "output_type": "stream",
     "text": [
      "                              0            1\n",
      "Intercept           1107.738347  2186.284946\n",
      "Salary_Hike           -2.365306    -1.108872\n",
      "Salary_Hike_square     0.000293     0.000658\n"
     ]
    }
   ],
   "source": [
    "print(model_quad.conf_int(0.05))"
   ]
  },
  {
   "cell_type": "code",
   "execution_count": 41,
   "metadata": {},
   "outputs": [
    {
     "name": "stdout",
     "output_type": "stream",
     "text": [
      "0    89.170352\n",
      "1    84.663268\n",
      "2    82.552343\n",
      "3    76.790034\n",
      "4    73.423882\n",
      "dtype: float64\n"
     ]
    }
   ],
   "source": [
    "pred_quad=model_quad.predict(emp.iloc[:,:3])\n",
    "print(pred_quad.head())"
   ]
  },
  {
   "cell_type": "code",
   "execution_count": 42,
   "metadata": {},
   "outputs": [
    {
     "name": "stdout",
     "output_type": "stream",
     "text": [
      "1.5779753028677412\n"
     ]
    }
   ],
   "source": [
    "#rmse for quadratic model\n",
    "rmse_quad=np.sqrt(np.mean((pred_quad-emp.Churn_Out_Rate)**2))\n",
    "print(rmse_quad)                                     #1.577 rs"
   ]
  },
  {
   "cell_type": "code",
   "execution_count": 44,
   "metadata": {},
   "outputs": [
    {
     "data": {
      "image/png": "[encoded data removed]",
      "text/plain": [
       "<Figure size 432x288 with 1 Axes>"
      ]
     },
     "metadata": {
      "needs_background": "light"
     },
     "output_type": "display_data"
    }
   ],
   "source": [
    "plt.scatter(x=emp.Churn_Out_Rate, y=pred_quad)\n",
    "plt.xlabel(\"act_churn\")\n",
    "plt.ylabel(\"pred_quad_churn\")\n",
    "plt.show()"
   ]
  },
  {
   "cell_type": "code",
   "execution_count": null,
   "metadata": {},
   "outputs": [],
   "source": [
    "     #conclusion:\n",
    "       -both model linear & quadratic are not same in accuracy\n",
    "       -linear model(r square=0.831,rmse=3.997)\n",
    "       -quadratic model(r square=0.974, rmse=1.577)\n",
    "       -The lower the RMSE value the better the model, so here quadratic model is the best fit model"
   ]
  }
 ],
 "metadata": {
  "kernelspec": {
   "display_name": "Python 3",
   "language": "python",
   "name": "python3"
  },
  "language_info": {
   "codemirror_mode": {
    "name": "ipython",
    "version": 3
   },
   "file_extension": ".py",
   "mimetype": "text/x-python",
   "name": "python",
   "nbconvert_exporter": "python",
   "pygments_lexer": "ipython3",
   "version": "3.7.4"
  }
 },
 "nbformat": 4,
 "nbformat_minor": 2
}
