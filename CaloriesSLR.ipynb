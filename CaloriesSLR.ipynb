{
 "cells": [
  {
   "cell_type": "code",
   "execution_count": 4,
   "metadata": {},
   "outputs": [],
   "source": [
    "import pandas as pd \n",
    "import numpy as np\n",
    "import matplotlib.pyplot as plt\n",
    "import seaborn as sns\n",
    "import statsmodels.formula.api as smf\n",
    "import matplotlib.pylab as plt\n"
   ]
  },
  {
   "cell_type": "code",
   "execution_count": 6,
   "metadata": {},
   "outputs": [
    {
     "name": "stdout",
     "output_type": "stream",
     "text": [
      "   Weight_gained  Calories_Consumed\n",
      "0            108               1500\n",
      "1            200               2300\n",
      "2            900               3400\n",
      "3            200               2200\n",
      "4            300               2500\n",
      ".....................................................\n",
      "number of columns 2\n",
      "number of rows/records 14\n"
     ]
    }
   ],
   "source": [
    "# reading a csv file\n",
    "weight = pd.read_csv(\"E:\\\\Data Science\\\\Assignments\\\\15. Simple Linear Regression\\\\calories_consumed.csv\")\n",
    "print(weight.head())\n",
    "print(\".....................................................\")\n",
    "print(\"number of columns\",weight.shape[1])\n",
    "print(\"number of rows/records\",weight.shape[0])"
   ]
  },
  {
   "cell_type": "code",
   "execution_count": 12,
   "metadata": {},
   "outputs": [
    {
     "name": "stdout",
     "output_type": "stream",
     "text": [
      "<class 'pandas.core.frame.DataFrame'>\n",
      "RangeIndex: 14 entries, 0 to 13\n",
      "Data columns (total 2 columns):\n",
      "Weight_gained        14 non-null int64\n",
      "Calories_Consumed    14 non-null int64\n",
      "dtypes: int64(2)\n",
      "memory usage: 352.0 bytes\n",
      "...........................................\n",
      "Weight_gained        0\n",
      "Calories_Consumed    0\n",
      "dtype: int64\n"
     ]
    }
   ],
   "source": [
    "weight.info()\n",
    "print(\"...........................................\")\n",
    "print(weight.isnull().sum())                 #checking for null value"
   ]
  },
  {
   "cell_type": "code",
   "execution_count": 7,
   "metadata": {},
   "outputs": [
    {
     "data": {
      "text/html": [
       "<div>\n",
       "<style scoped>\n",
       "    .dataframe tbody tr th:only-of-type {\n",
       "        vertical-align: middle;\n",
       "    }\n",
       "\n",
       "    .dataframe tbody tr th {\n",
       "        vertical-align: top;\n",
       "    }\n",
       "\n",
       "    .dataframe thead th {\n",
       "        text-align: right;\n",
       "    }\n",
       "</style>\n",
       "<table border=\"1\" class=\"dataframe\">\n",
       "  <thead>\n",
       "    <tr style=\"text-align: right;\">\n",
       "      <th></th>\n",
       "      <th>Weight_gained</th>\n",
       "      <th>Calories_Consumed</th>\n",
       "    </tr>\n",
       "  </thead>\n",
       "  <tbody>\n",
       "    <tr>\n",
       "      <td>count</td>\n",
       "      <td>14.000000</td>\n",
       "      <td>14.000000</td>\n",
       "    </tr>\n",
       "    <tr>\n",
       "      <td>mean</td>\n",
       "      <td>357.714286</td>\n",
       "      <td>2340.714286</td>\n",
       "    </tr>\n",
       "    <tr>\n",
       "      <td>std</td>\n",
       "      <td>333.692495</td>\n",
       "      <td>752.109488</td>\n",
       "    </tr>\n",
       "    <tr>\n",
       "      <td>min</td>\n",
       "      <td>62.000000</td>\n",
       "      <td>1400.000000</td>\n",
       "    </tr>\n",
       "    <tr>\n",
       "      <td>25%</td>\n",
       "      <td>114.500000</td>\n",
       "      <td>1727.500000</td>\n",
       "    </tr>\n",
       "    <tr>\n",
       "      <td>50%</td>\n",
       "      <td>200.000000</td>\n",
       "      <td>2250.000000</td>\n",
       "    </tr>\n",
       "    <tr>\n",
       "      <td>75%</td>\n",
       "      <td>537.500000</td>\n",
       "      <td>2775.000000</td>\n",
       "    </tr>\n",
       "    <tr>\n",
       "      <td>max</td>\n",
       "      <td>1100.000000</td>\n",
       "      <td>3900.000000</td>\n",
       "    </tr>\n",
       "  </tbody>\n",
       "</table>\n",
       "</div>"
      ],
      "text/plain": [
       "       Weight_gained  Calories_Consumed\n",
       "count      14.000000          14.000000\n",
       "mean      357.714286        2340.714286\n",
       "std       333.692495         752.109488\n",
       "min        62.000000        1400.000000\n",
       "25%       114.500000        1727.500000\n",
       "50%       200.000000        2250.000000\n",
       "75%       537.500000        2775.000000\n",
       "max      1100.000000        3900.000000"
      ]
     },
     "execution_count": 7,
     "metadata": {},
     "output_type": "execute_result"
    }
   ],
   "source": [
    "weight.describe()    "
   ]
  },
  {
   "cell_type": "code",
   "execution_count": null,
   "metadata": {},
   "outputs": [],
   "source": []
  },
  {
   "cell_type": "code",
   "execution_count": 8,
   "metadata": {},
   "outputs": [
    {
     "data": {
      "image/png": "[encoded data removed]",
      "text/plain": [
       "<Figure size 432x288 with 1 Axes>"
      ]
     },
     "metadata": {
      "needs_background": "light"
     },
     "output_type": "display_data"
    }
   ],
   "source": [
    "#analysing the data using visualization\n",
    "plt.hist(weight.Calories_Consumed)\n",
    "plt.show()"
   ]
  },
  {
   "cell_type": "code",
   "execution_count": 9,
   "metadata": {},
   "outputs": [
    {
     "data": {
      "image/png": "[encoded data removed]",
      "text/plain": [
       "<Figure size 432x288 with 1 Axes>"
      ]
     },
     "metadata": {
      "needs_background": "light"
     },
     "output_type": "display_data"
    }
   ],
   "source": [
    "plt.hist(weight.Weight_gained)\n",
    "plt.show()"
   ]
  },
  {
   "cell_type": "code",
   "execution_count": 10,
   "metadata": {},
   "outputs": [
    {
     "data": {
      "image/png": "[encoded data removed]",
      "text/plain": [
       "<Figure size 432x288 with 1 Axes>"
      ]
     },
     "metadata": {
      "needs_background": "light"
     },
     "output_type": "display_data"
    }
   ],
   "source": [
    "plt.plot(weight[\"Calories_Consumed\"],weight[\"Weight_gained\"], \"bo\")\n",
    "plt.xlabel(\"Calories_Consumed\")\n",
    "plt.ylabel(\"Weight_gained\")\n",
    "plt.show()"
   ]
  },
  {
   "cell_type": "code",
   "execution_count": 11,
   "metadata": {},
   "outputs": [
    {
     "name": "stdout",
     "output_type": "stream",
     "text": [
      "[[1.         0.94699101]\n",
      " [0.94699101 1.        ]]\n"
     ]
    }
   ],
   "source": [
    "#correlation value between feature and outcome\n",
    "print(np.corrcoef(weight.Calories_Consumed,weight.Weight_gained))\n"
   ]
  },
  {
   "cell_type": "code",
   "execution_count": 12,
   "metadata": {},
   "outputs": [
    {
     "name": "stdout",
     "output_type": "stream",
     "text": [
      "Intercept           -625.752356\n",
      "Calories_Consumed      0.420157\n",
      "dtype: float64\n",
      "                            OLS Regression Results                            \n",
      "==============================================================================\n",
      "Dep. Variable:          Weight_gained   R-squared:                       0.897\n",
      "Model:                            OLS   Adj. R-squared:                  0.888\n",
      "Method:                 Least Squares   F-statistic:                     104.3\n",
      "Date:                Sun, 26 Apr 2020   Prob (F-statistic):           2.86e-07\n",
      "Time:                        21:01:30   Log-Likelihood:                -84.792\n",
      "No. Observations:                  14   AIC:                             173.6\n",
      "Df Residuals:                      12   BIC:                             174.9\n",
      "Df Model:                           1                                         \n",
      "Covariance Type:            nonrobust                                         \n",
      "=====================================================================================\n",
      "                        coef    std err          t      P>|t|      [0.025      0.975]\n",
      "-------------------------------------------------------------------------------------\n",
      "Intercept          -625.7524    100.823     -6.206      0.000    -845.427    -406.078\n",
      "Calories_Consumed     0.4202      0.041     10.211      0.000       0.331       0.510\n",
      "==============================================================================\n",
      "Omnibus:                        3.394   Durbin-Watson:                   2.537\n",
      "Prob(Omnibus):                  0.183   Jarque-Bera (JB):                1.227\n",
      "Skew:                          -0.203   Prob(JB):                        0.541\n",
      "Kurtosis:                       1.608   Cond. No.                     8.28e+03\n",
      "==============================================================================\n",
      "\n",
      "Warnings:\n",
      "[1] Standard Errors assume that the covariance matrix of the errors is correctly specified.\n",
      "[2] The condition number is large, 8.28e+03. This might indicate that there are\n",
      "strong multicollinearity or other numerical problems.\n"
     ]
    },
    {
     "name": "stderr",
     "output_type": "stream",
     "text": [
      "C:\\Users\\Admin\\Anaconda3\\lib\\site-packages\\scipy\\stats\\stats.py:1450: UserWarning: kurtosistest only valid for n>=20 ... continuing anyway, n=14\n",
      "  \"anyway, n=%i\" % int(n))\n"
     ]
    }
   ],
   "source": [
    "#start  training model\n",
    "model=smf.ols('Weight_gained~Calories_Consumed', data=weight).fit()\n",
    "print(model.params)        #getting models parameter\n",
    "print(model.summary())    #summary of models(p value,r square value etc.)\n",
    "          #r square 0.897"
   ]
  },
  {
   "cell_type": "code",
   "execution_count": 13,
   "metadata": {},
   "outputs": [
    {
     "name": "stdout",
     "output_type": "stream",
     "text": [
      "                            0           1\n",
      "Intercept         -845.426655 -406.078057\n",
      "Calories_Consumed    0.330506    0.509807\n"
     ]
    }
   ],
   "source": [
    "print(model.conf_int(0.05))   #95% confidence level"
   ]
  },
  {
   "cell_type": "code",
   "execution_count": 14,
   "metadata": {},
   "outputs": [
    {
     "name": "stdout",
     "output_type": "stream",
     "text": [
      "0       4.482599\n",
      "1     340.607908\n",
      "2     802.780209\n",
      "3     298.592245\n",
      "4     424.639236\n",
      "5      46.498263\n",
      "6     -37.533065\n",
      "7     172.545254\n",
      "8     550.686227\n",
      "9    1012.858527\n",
      "dtype: float64\n"
     ]
    }
   ],
   "source": [
    "pred=model.predict(weight.iloc[:,:])      #predict the value of weight gained using trained model\n",
    "print(pred.head(10))"
   ]
  },
  {
   "cell_type": "code",
   "execution_count": 15,
   "metadata": {},
   "outputs": [
    {
     "name": "stdout",
     "output_type": "stream",
     "text": [
      "103.30250194726932\n"
     ]
    }
   ],
   "source": [
    "#rmse for given model\n",
    "rmse=np.sqrt(np.mean((pred-weight.Weight_gained)**2))\n",
    "print(rmse)                                         #103.302 RMSE\n"
   ]
  },
  {
   "cell_type": "code",
   "execution_count": 16,
   "metadata": {},
   "outputs": [
    {
     "data": {
      "image/png": "[encoded data removed]",
      "text/plain": [
       "<Figure size 432x288 with 1 Axes>"
      ]
     },
     "metadata": {
      "needs_background": "light"
     },
     "output_type": "display_data"
    }
   ],
   "source": [
    "#visualization of regression line using matplotlib\n",
    "plt.scatter(x=weight['Calories_Consumed'],y=weight['Weight_gained'],color='violet')\n",
    "plt.plot(weight['Calories_Consumed'],pred,color='black')\n",
    "plt.xlabel('CALORIES CONSUMED')\n",
    "plt.ylabel('WEIGHT GAINED')\n",
    "plt.show()\n"
   ]
  },
  {
   "cell_type": "code",
   "execution_count": 17,
   "metadata": {},
   "outputs": [
    {
     "data": {
      "image/png": "[encoded data removed]",
      "text/plain": [
       "<Figure size 432x288 with 1 Axes>"
      ]
     },
     "metadata": {
      "needs_background": "light"
     },
     "output_type": "display_data"
    }
   ],
   "source": [
    "plt.scatter(x=weight.Weight_gained, y=pred)\n",
    "plt.xlabel('act_weight')\n",
    "plt.ylabel('pred_weight')\n",
    "plt.show()                                                                    #actual weight vs predicted weight"
   ]
  },
  {
   "cell_type": "code",
   "execution_count": 18,
   "metadata": {},
   "outputs": [
    {
     "name": "stdout",
     "output_type": "stream",
     "text": [
      "   Weight_gained  Calories_Consumed  Calories_Consumed_square\n",
      "0            108               1500                   2250000\n",
      "1            200               2300                   5290000\n",
      "2            900               3400                  11560000\n",
      "3            200               2200                   4840000\n",
      "4            300               2500                   6250000\n"
     ]
    }
   ],
   "source": [
    "#looking for alternate model like quadratic or exponential\n",
    "   #quadratic model\n",
    "weight[\"Calories_Consumed_square\"]=weight.Calories_Consumed*weight.Calories_Consumed\n",
    "print(weight.head())"
   ]
  },
  {
   "cell_type": "code",
   "execution_count": 19,
   "metadata": {},
   "outputs": [
    {
     "name": "stdout",
     "output_type": "stream",
     "text": [
      "Intercept                   203.258458\n",
      "Calories_Consumed            -0.291894\n",
      "Calories_Consumed_square      0.000140\n",
      "dtype: float64\n",
      "                            OLS Regression Results                            \n",
      "==============================================================================\n",
      "Dep. Variable:          Weight_gained   R-squared:                       0.952\n",
      "Model:                            OLS   Adj. R-squared:                  0.943\n",
      "Method:                 Least Squares   F-statistic:                     109.2\n",
      "Date:                Sun, 26 Apr 2020   Prob (F-statistic):           5.55e-08\n",
      "Time:                        21:01:47   Log-Likelihood:                -79.425\n",
      "No. Observations:                  14   AIC:                             164.9\n",
      "Df Residuals:                      11   BIC:                             166.8\n",
      "Df Model:                           2                                         \n",
      "Covariance Type:            nonrobust                                         \n",
      "============================================================================================\n",
      "                               coef    std err          t      P>|t|      [0.025      0.975]\n",
      "--------------------------------------------------------------------------------------------\n",
      "Intercept                  203.2585    243.624      0.834      0.422    -332.955     739.472\n",
      "Calories_Consumed           -0.2919      0.202     -1.444      0.177      -0.737       0.153\n",
      "Calories_Consumed_square     0.0001   3.92e-05      3.561      0.004    5.33e-05       0.000\n",
      "==============================================================================\n",
      "Omnibus:                        1.621   Durbin-Watson:                   3.058\n",
      "Prob(Omnibus):                  0.445   Jarque-Bera (JB):                0.996\n",
      "Skew:                           0.324   Prob(JB):                        0.608\n",
      "Kurtosis:                       1.865   Cond. No.                     8.12e+07\n",
      "==============================================================================\n",
      "\n",
      "Warnings:\n",
      "[1] Standard Errors assume that the covariance matrix of the errors is correctly specified.\n",
      "[2] The condition number is large, 8.12e+07. This might indicate that there are\n",
      "strong multicollinearity or other numerical problems.\n"
     ]
    }
   ],
   "source": [
    "model_quad=smf.ols(\"Weight_gained~Calories_Consumed+Calories_Consumed_square\",data=weight).fit()\n",
    "print(model_quad.params)\n",
    "print(model_quad.summary())       # r square 0.952"
   ]
  },
  {
   "cell_type": "code",
   "execution_count": 21,
   "metadata": {},
   "outputs": [
    {
     "name": "stdout",
     "output_type": "stream",
     "text": [
      "                                   0           1\n",
      "Intercept                -332.955294  739.472210\n",
      "Calories_Consumed          -0.736713    0.152925\n",
      "Calories_Consumed_square    0.000053    0.000226\n"
     ]
    }
   ],
   "source": [
    "print(model_quad.conf_int(0.05))"
   ]
  },
  {
   "cell_type": "code",
   "execution_count": 33,
   "metadata": {},
   "outputs": [
    {
     "name": "stdout",
     "output_type": "stream",
     "text": [
      "0     79.333455\n",
      "1    269.953635\n",
      "2    823.649454\n",
      "3    236.359838\n",
      "4    345.512323\n",
      "dtype: float64\n"
     ]
    }
   ],
   "source": [
    "pred_quad=model_quad.predict(weight.iloc[:,:3])\n",
    "print(pred_quad.head())"
   ]
  },
  {
   "cell_type": "code",
   "execution_count": 34,
   "metadata": {},
   "outputs": [
    {
     "name": "stdout",
     "output_type": "stream",
     "text": [
      "70.40751529831554\n"
     ]
    }
   ],
   "source": [
    "#rmse for quadratic model\n",
    "rmse_quad=np.sqrt(np.mean((pred_quad-weight.Weight_gained)**2))\n",
    "print(rmse_quad)                                     #70.407 rs"
   ]
  },
  {
   "cell_type": "code",
   "execution_count": 35,
   "metadata": {},
   "outputs": [
    {
     "data": {
      "image/png": "[encoded data removed]",
      "text/plain": [
       "<Figure size 432x288 with 1 Axes>"
      ]
     },
     "metadata": {
      "needs_background": "light"
     },
     "output_type": "display_data"
    }
   ],
   "source": [
    "plt.scatter(x=weight.Weight_gained, y=pred_quad)\n",
    "plt.xlabel(\"act_weight\")\n",
    "plt.ylabel(\"pred_quad_weight\")\n",
    "plt.show()"
   ]
  },
  {
   "cell_type": "code",
   "execution_count": null,
   "metadata": {},
   "outputs": [],
   "source": [
    "     #conclusion:\n",
    "       -both model linear&quadratic are same in accuracy\n",
    "       -linear model(r square=0.957,rmse=103.302 rs)\n",
    "       -quadratic model(r square=0.957, rmse=70.407)\n",
    "       -The lower the RMSE value the better the model, so here quadratic model is the best fit model"
   ]
  }
 ],
 "metadata": {
  "kernelspec": {
   "display_name": "Python 3",
   "language": "python",
   "name": "python3"
  },
  "language_info": {
   "codemirror_mode": {
    "name": "ipython",
    "version": 3
   },
   "file_extension": ".py",
   "mimetype": "text/x-python",
   "name": "python",
   "nbconvert_exporter": "python",
   "pygments_lexer": "ipython3",
   "version": "3.7.4"
  }
 },
 "nbformat": 4,
 "nbformat_minor": 2
}
